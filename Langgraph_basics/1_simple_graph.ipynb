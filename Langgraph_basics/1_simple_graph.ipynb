{
 "cells": [
  {
   "cell_type": "code",
   "execution_count": 71,
   "id": "9cb1a71f",
   "metadata": {},
   "outputs": [],
   "source": [
    "from typing_extensions import TypedDict\n",
    "class State(TypedDict):\n",
    "    graph_info:str"
   ]
  },
  {
   "cell_type": "code",
   "execution_count": 72,
   "id": "c0a75f33",
   "metadata": {},
   "outputs": [],
   "source": [
    "def start_work(state:State):\n",
    "    print(\"Start_Work node has been called!!!\")\n",
    "    return {\"graph_info\":state['graph_info'] + \" I am planning to work,\"}\n",
    "\n",
    "def research(state:State):\n",
    "    print(\"My research node has been called!!!\")\n",
    "    return {\"graph_info\":state['graph_info'] + \" I will do research\"}\n",
    "\n",
    "def develop(state:State):\n",
    "    print(\"My develop node has been called!!!\")\n",
    "    return {\"graph_info\":state['graph_info'] + \" I will do developing\"}"
   ]
  },
  {
   "cell_type": "code",
   "execution_count": 73,
   "id": "4fea554f",
   "metadata": {},
   "outputs": [],
   "source": [
    "import random\n",
    "from typing import Literal\n",
    "\n",
    "def random_work(state) -> Literal['research', 'develop']:\n",
    "    if random.random()<0.5:\n",
    "        return 'research'\n",
    "    else:\n",
    "        return 'develop'"
   ]
  },
  {
   "cell_type": "code",
   "execution_count": 74,
   "id": "71a43375",
   "metadata": {},
   "outputs": [
    {
     "data": {
      "image/png": "[encoded data removed]",
      "text/plain": [
       "<IPython.core.display.Image object>"
      ]
     },
     "metadata": {},
     "output_type": "display_data"
    }
   ],
   "source": [
    "from IPython.display import Image, display\n",
    "from langgraph.graph import StateGraph, START, END\n",
    "\n",
    "## Graph build\n",
    "graph = StateGraph(State)\n",
    "\n",
    "## Adding the nodes\n",
    "graph.add_node(\"start_work\", start_work)\n",
    "graph.add_node(\"research\", research)\n",
    "graph.add_node(\"develop\", develop)\n",
    "\n",
    "## Schedule the flow of the graph\n",
    "graph.add_edge(START, \"start_work\")\n",
    "graph.add_conditional_edges(\"start_work\", random_work)\n",
    "graph.add_edge(\"research\", END)\n",
    "graph.add_edge(\"develop\", END)\n",
    "\n",
    "## compile the graph\n",
    "graph_builder = graph.compile()\n",
    "\n",
    "## view\n",
    "display(Image(graph_builder.get_graph().draw_mermaid_png()))"
   ]
  },
  {
   "cell_type": "code",
   "execution_count": 75,
   "id": "8eb49d1d",
   "metadata": {},
   "outputs": [
    {
     "name": "stdout",
     "output_type": "stream",
     "text": [
      "Start_Work node has been called!!!\n",
      "My research node has been called!!!\n"
     ]
    },
    {
     "data": {
      "text/plain": [
       "{'graph_info': 'This is TJ.  I am planning to work, I will do research'}"
      ]
     },
     "execution_count": 75,
     "metadata": {},
     "output_type": "execute_result"
    }
   ],
   "source": [
    "graph_builder.invoke({\"graph_info\":\"This is TJ. \"})"
   ]
  },
  {
   "cell_type": "code",
   "execution_count": 76,
   "id": "30b344b1",
   "metadata": {},
   "outputs": [
    {
     "name": "stdout",
     "output_type": "stream",
     "text": [
      "Start_Work node has been called!!!\n",
      "My develop node has been called!!!\n"
     ]
    },
    {
     "data": {
      "text/plain": [
       "{'graph_info': 'This is TJ.  I am planning to work, I will do developing'}"
      ]
     },
     "execution_count": 76,
     "metadata": {},
     "output_type": "execute_result"
    }
   ],
   "source": [
    "graph_builder.invoke({\"graph_info\":\"This is TJ. \"})"
   ]
  }
 ],
 "metadata": {
  "kernelspec": {
   "display_name": "Python 3",
   "language": "python",
   "name": "python3"
  },
  "language_info": {
   "codemirror_mode": {
    "name": "ipython",
    "version": 3
   },
   "file_extension": ".py",
   "mimetype": "text/x-python",
   "name": "python",
   "nbconvert_exporter": "python",
   "pygments_lexer": "ipython3",
   "version": "3.12.0"
  }
 },
 "nbformat": 4,
 "nbformat_minor": 5
}
