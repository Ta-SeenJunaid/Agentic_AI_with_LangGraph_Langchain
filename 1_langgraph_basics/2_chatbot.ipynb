{
 "cells": [
  {
   "cell_type": "code",
   "execution_count": 23,
   "id": "5331f836",
   "metadata": {},
   "outputs": [],
   "source": [
    "from typing_extensions import TypedDict\n",
    "\n",
    "from langgraph.graph import StateGraph, START, END\n",
    "\n",
    "## Reducers\n",
    "from typing import Annotated\n",
    "from langgraph.graph.message import add_messages"
   ]
  },
  {
   "cell_type": "code",
   "execution_count": 24,
   "id": "5edf126f",
   "metadata": {},
   "outputs": [],
   "source": [
    "class State(TypedDict):\n",
    "    messages:Annotated[list, add_messages]"
   ]
  },
  {
   "cell_type": "code",
   "execution_count": 25,
   "id": "bf47b994",
   "metadata": {},
   "outputs": [],
   "source": [
    "import os\n",
    "from dotenv import load_dotenv\n",
    "load_dotenv()\n",
    "\n",
    "os.environ[\"GROQ_API_KEY\"] = os.getenv(\"GROQ_API_KEY\")"
   ]
  },
  {
   "cell_type": "code",
   "execution_count": 26,
   "id": "eac7e8bb",
   "metadata": {},
   "outputs": [
    {
     "data": {
      "text/plain": [
       "AIMessage(content=\"\\n<think>\\nOkay, the user is TJ, who mentions they like doing research. I should respond in a way that's friendly and encouraging. Let me start by greeting them and acknowledging their passion for research. Maybe ask what specific areas they're interested in to engage them further. I should keep it open-ended so they feel comfortable sharing more details. Also, I can mention some common research fields to give examples, but make sure to let them know I'm here to help with whatever they need. Need to keep the tone positive and supportive. Let me check the response structure: greeting, acknowledge their interest, ask about their focus areas, offer assistance, and keep it welcoming. Yeah, that should work. Alright, let's put that together.\\n</think>\\n\\nHey TJ! That’s awesome that you love research! 💡 What specific areas or topics are you most passionate about? Whether it's science, history, tech, or something else entirely, I’d love to help you dive deeper or brainstorm ideas. Let me know how I can support your research journey!\", additional_kwargs={}, response_metadata={'token_usage': {'completion_tokens': 211, 'prompt_tokens': 21, 'total_tokens': 232, 'completion_time': 0.485049518, 'prompt_time': 0.00361702, 'queue_time': 0.342926647, 'total_time': 0.488666538}, 'model_name': 'qwen-qwq-32b', 'system_fingerprint': 'fp_18a313a21d', 'finish_reason': 'stop', 'logprobs': None}, id='run--e77aeb50-55ad-4360-b1ed-a77183374d96-0', usage_metadata={'input_tokens': 21, 'output_tokens': 211, 'total_tokens': 232})"
      ]
     },
     "execution_count": 26,
     "metadata": {},
     "output_type": "execute_result"
    }
   ],
   "source": [
    "from langchain_groq import ChatGroq\n",
    "\n",
    "llm_groq=ChatGroq(model=\"qwen-qwq-32b\")\n",
    "llm_groq.invoke(\"Hey I am TJ and I like to do research!!!\")"
   ]
  },
  {
   "cell_type": "code",
   "execution_count": 27,
   "id": "83b7ee4e",
   "metadata": {},
   "outputs": [],
   "source": [
    "def chatbot(state:State):\n",
    "    return {\"messages\":[llm_groq.invoke(state['messages'])]}"
   ]
  },
  {
   "cell_type": "code",
   "execution_count": 28,
   "id": "bae6ebe4",
   "metadata": {},
   "outputs": [
    {
     "data": {
      "image/png": "[encoded data removed]",
      "text/plain": [
       "<IPython.core.display.Image object>"
      ]
     },
     "metadata": {},
     "output_type": "display_data"
    }
   ],
   "source": [
    "graph=StateGraph(State)\n",
    "\n",
    "graph.add_node(\"chatbot\", chatbot)\n",
    "\n",
    "graph.add_edge(START, \"chatbot\")\n",
    "graph.add_edge(\"chatbot\", END)\n",
    "\n",
    "graph_builder=graph.compile()\n",
    "\n",
    "## Display\n",
    "from IPython.display import Image, display\n",
    "display(Image(graph_builder.get_graph().draw_mermaid_png()))"
   ]
  },
  {
   "cell_type": "code",
   "execution_count": 29,
   "id": "b0c4ebc6",
   "metadata": {},
   "outputs": [
    {
     "data": {
      "text/plain": [
       "{'messages': [HumanMessage(content='Hey I am TJ and I like to do research!!!', additional_kwargs={}, response_metadata={}, id='9e7d1fcf-19a3-4a3f-b75a-541d8d807e43'),\n",
       "  AIMessage(content='\\n<think>\\nOkay, so I need to figure out how to respond to someone named TJ who says they like to do research. The user is probably looking for some kind of engaging or encouraging reply. Let me start by thinking about what TJ might be expecting. Since they mentioned research, maybe they want to talk about their research interests or get some tips.\\n\\nFirst, I should acknowledge their interest in research to make them feel heard. Then, maybe ask about their specific areas of interest. But I should keep it open-ended so they can choose what to share. Also, since they used all caps in \"Hey I am TJ and I like to do research!!!\", they might be enthusiastic, so the response should match that energy.\\n\\nWait, the user is actually the assistant here, right? The original message is from TJ, and the assistant is supposed to reply. The user\\'s instruction was to act as the assistant, so I need to frame the response as the assistant. The assistant should be friendly and helpful, maybe ask questions to engage TJ further. Let me check the example response provided earlier to see if there\\'s a template.\\n\\nLooking at the previous example, the assistant responded with enthusiasm, asked about the research areas, and offered help. So following that structure makes sense. Maybe start with a greeting, express enthusiasm, ask for specifics, and offer assistance. Also, use emojis to keep it friendly, but not overdo it. Let me make sure to avoid any markdown as instructed. Alright, that should cover it. Let me put that together in a natural way.\\n</think>\\n\\nHey TJ! That’s awesome! 💡 What areas of research are you most passionate about? I’m always happy to help brainstorm ideas, dive into literature, or geek out over methodologies. Let me know how I can assist—you’ve got a fellow researcher here!', additional_kwargs={}, response_metadata={'token_usage': {'completion_tokens': 369, 'prompt_tokens': 21, 'total_tokens': 390, 'completion_time': 0.907821763, 'prompt_time': 0.005182792, 'queue_time': 0.22257765000000002, 'total_time': 0.913004555}, 'model_name': 'qwen-qwq-32b', 'system_fingerprint': 'fp_1e88ca32eb', 'finish_reason': 'stop', 'logprobs': None}, id='run--55a2e89f-b1a4-4d29-98ae-11a9971fef9b-0', usage_metadata={'input_tokens': 21, 'output_tokens': 369, 'total_tokens': 390})]}"
      ]
     },
     "execution_count": 29,
     "metadata": {},
     "output_type": "execute_result"
    }
   ],
   "source": [
    "graph_builder.invoke({\"messages\":\"Hey I am TJ and I like to do research!!!\"})"
   ]
  },
  {
   "cell_type": "code",
   "execution_count": 30,
   "id": "82e5076d",
   "metadata": {},
   "outputs": [
    {
     "name": "stdout",
     "output_type": "stream",
     "text": [
      "{'chatbot': {'messages': [AIMessage(content=\"\\n<think>\\nOkay, the user is TJ and they mentioned they like to do research. I should start by greeting them and acknowledging their interest in research. Maybe I can ask them about their specific research interests to get more details. I want to make sure I'm engaging and helpful, so asking open-ended questions would be good. Let me think of some examples of research areas people commonly get into. Maybe topics like climate change, AI, or space exploration? I should phrase it in a way that invites them to share more. Also, since they provided their name, maybe using it in the response could make it feel more personal. Let me put that together into a friendly and encouraging reply.\\n</think>\\n\\nHey TJ! That's awesome that you enjoy research—it’s such a rewarding way to explore new ideas and contribute to our understanding of the world. What areas of research interest you most? Are you diving into topics like climate science, AI, space exploration, or something entirely different? I’d love to hear more about your work or what you’re curious about exploring! 😊 Let me know how I can help—whether it’s brainstorming, resources, or just geeking out over cool studies.\", additional_kwargs={}, response_metadata={'token_usage': {'completion_tokens': 239, 'prompt_tokens': 21, 'total_tokens': 260, 'completion_time': 0.564015893, 'prompt_time': 0.003247258, 'queue_time': 0.12373746799999999, 'total_time': 0.567263151}, 'model_name': 'qwen-qwq-32b', 'system_fingerprint': 'fp_9faf42d81f', 'finish_reason': 'stop', 'logprobs': None}, id='run--a32b6538-4517-4dd0-80e9-f606682ae385-0', usage_metadata={'input_tokens': 21, 'output_tokens': 239, 'total_tokens': 260})]}}\n"
     ]
    }
   ],
   "source": [
    "for event in graph_builder.stream({\"messages\":\"Hey I am TJ and I like to do research!!!\"}):\n",
    "    print(event)"
   ]
  },
  {
   "cell_type": "code",
   "execution_count": null,
   "id": "303534bd",
   "metadata": {},
   "outputs": [],
   "source": []
  }
 ],
 "metadata": {
  "kernelspec": {
   "display_name": "Python 3",
   "language": "python",
   "name": "python3"
  },
  "language_info": {
   "codemirror_mode": {
    "name": "ipython",
    "version": 3
   },
   "file_extension": ".py",
   "mimetype": "text/x-python",
   "name": "python",
   "nbconvert_exporter": "python",
   "pygments_lexer": "ipython3",
   "version": "3.12.0"
  }
 },
 "nbformat": 4,
 "nbformat_minor": 5
}
