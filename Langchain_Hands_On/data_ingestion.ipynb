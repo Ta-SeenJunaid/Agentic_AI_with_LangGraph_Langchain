{
 "cells": [
  {
   "cell_type": "markdown",
   "id": "a7c5a66d",
   "metadata": {},
   "source": [
    "## Data Ingestion- Documentloaders"
   ]
  },
  {
   "cell_type": "code",
   "execution_count": 9,
   "id": "15dd18ff",
   "metadata": {},
   "outputs": [
    {
     "data": {
      "text/plain": [
       "[Document(metadata={'source': '../Data/random/text.txt'}, page_content='Before the Sun\\n\\nThe rain had stopped hours ago, but the streets still glistened like molten silver.\\nWater pooled in the seams of cobblestones, trembling whenever a stray breeze swept through the alleyways.\\nSomewhere overhead, a single streetlamp flickered — not quite out of life, but never fully committed to staying lit.\\nIt was the kind of hour the city forgot it had, a narrow stretch of time between night’s exhaustion and dawn’s impatient light.\\n\\nA lone cyclist drifted through the quiet.\\nTheir coat was too thin for the damp air, but the rhythm of their pedaling kept the cold at bay.\\nThe hum of the tires was steady, a soft metronome against the hollow spaces between the brick walls.\\nShopfronts passed in a blur — shutters down, windows black, mannequins in winter scarves staring blankly into nothing.\\n\\nFrom somewhere far ahead came the scent of baking bread.\\nIt curled through the air like smoke from an invisible fire, warm and insistent,\\ndrawing the cyclist onward with a pull stronger than hunger.\\nThe source was a bakery on the corner of Bridge and Lanesworth —\\na place the cyclist had never actually visited but had passed countless times during busier hours,\\nwhen the glass counter was crowded with loaves, pastries, and the soft murmurs of customers.\\nNow, the bakery stood in quiet defiance of the sleeping city,\\nits oven light glowing faintly through the front window like a beacon.\\n\\nA delivery truck was parked at the curb.\\nIts engine was off, but the warmth still radiated from its hood.\\nThe driver, a man in a navy cap, leaned against the side door sipping from a paper cup.\\nHe gave the cyclist a nod, the kind of shared acknowledgment that belongs to those awake in forbidden hours.\\nNeither spoke; neither needed to.\\nThe night still had a hold on their words.\\n\\nSomewhere, a gull cried — sharp, distant, and strangely out of place.\\nIt was too early for the birds, but perhaps the sea didn’t care for clocks any more than the wind did.\\nThe cyclist turned a corner and passed the waterfront,\\nwhere the tide lapped gently against weathered wood pilings.\\nThe water’s surface mirrored the sky: black, rippled, and holding a promise of color yet to come.\\nEvery so often, a faint streak of orange teased the horizon,\\nas though the sun were testing the patience of the world before committing to the day.\\n\\nBeyond the docks lay the market district.\\nEmpty stalls stood with their canvas awnings rolled tight,\\nbut the air already carried hints of what was to come:\\ncitrus from crates of early-arriving oranges,\\nthe faint musk of burlap sacks filled with roasted coffee beans,\\nthe tang of sea salt from the fishmonger’s early catch.\\nThe cyclist slowed here, coasting between the rows,\\nletting the scents and the slow creak of the tide weave into a tapestry of beginnings.\\n\\nIt was in the market’s farthest corner that they found the old clock tower.\\nThe building’s bricks had weathered a century of storms,\\nits iron hands frozen at 4:12 ever since the great power outage years ago.\\nNo one had bothered to fix it —\\ntime in this part of the city seemed to run on its own rules anyway.\\nBeneath the tower’s shadow, puddles reflected not the sky but the faint glow of lanterns.\\nSomeone had left them lit overnight, their flames swaying gently in the damp air.\\n\\nThe cyclist stopped here.\\nNot because they needed rest,\\nbut because some part of them understood that this was the moment —\\nthe stillness before the turning of the page.\\nThe scent of bread still lingered in the air,\\nand the gulls were beginning to gather somewhere unseen.\\nA distant whistle — maybe a train, maybe the wind — carried over the rooftops.\\n\\nAnd then, without ceremony, the first full ribbon of sunlight broke the horizon.\\nIt slid over the water, painted the bricks, caught in the glass windows of the closed shops.\\nThe cyclist closed their eyes for a heartbeat,\\nand when they opened them again, the city was no longer asleep.')]"
      ]
     },
     "execution_count": 9,
     "metadata": {},
     "output_type": "execute_result"
    }
   ],
   "source": [
    "## Reading a Text File\n",
    "from langchain_community.document_loaders import TextLoader\n",
    "\n",
    "loader = TextLoader(\"../Data/random/text.txt\")\n",
    "\n",
    "text_doc = loader.load()\n",
    "text_doc"
   ]
  },
  {
   "cell_type": "code",
   "execution_count": null,
   "id": "d242f5a7",
   "metadata": {},
   "outputs": [
    {
     "data": {
      "text/plain": [
       "[Document(metadata={'producer': 'ReportLab PDF Library - www.reportlab.com', 'creator': '(unspecified)', 'creationdate': '2025-08-10T08:32:03+00:00', 'author': '(anonymous)', 'keywords': '', 'moddate': '2025-08-10T08:32:03+00:00', 'subject': '(unspecified)', 'title': '(anonymous)', 'trapped': '/False', 'source': '../Data/random/before_the_sun.pdf', 'total_pages': 1, 'page': 0, 'page_label': '1'}, page_content='Before the Sun\\nThe rain had stopped hours ago, but the streets still glistened like molten silver. Water pooled in the\\nseams of cobblestones, trembling whenever a stray breeze swept through the alleyways. Somewhere\\noverhead, a single streetlamp flickered — not quite out of life, but never fully committed to staying lit. It\\nwas the kind of hour the city forgot it had, a narrow stretch of time between night’s exhaustion and\\ndawn’s impatient light.\\nA lone cyclist drifted through the quiet. Their coat was too thin for the damp air, but the rhythm of their\\npedaling kept the cold at bay. The hum of the tires was steady, a soft metronome against the hollow\\nspaces between the brick walls. Shopfronts passed in a blur — shutters down, windows black,\\nmannequins in winter scarves staring blankly into nothing.\\nFrom somewhere far ahead came the scent of baking bread. It curled through the air like smoke from\\nan invisible fire, warm and insistent, drawing the cyclist onward with a pull stronger than hunger. The\\nsource was a bakery on the corner of Bridge and Lanesworth — a place the cyclist had never actually\\nvisited but had passed countless times during busier hours, when the glass counter was crowded with\\nloaves, pastries, and the soft murmurs of customers. Now, the bakery stood in quiet defiance of the\\nsleeping city, its oven light glowing faintly through the front window like a beacon.\\nA delivery truck was parked at the curb. Its engine was off, but the warmth still radiated from its hood.\\nThe driver, a man in a navy cap, leaned against the side door sipping from a paper cup. He gave the\\ncyclist a nod, the kind of shared acknowledgment that belongs to those awake in forbidden hours.\\nNeither spoke; neither needed to. The night still had a hold on their words.\\nSomewhere, a gull cried — sharp, distant, and strangely out of place. It was too early for the birds, but\\nperhaps the sea didn’t care for clocks any more than the wind did. The cyclist turned a corner and\\npassed the waterfront, where the tide lapped gently against weathered wood pilings. The water’s\\nsurface mirrored the sky: black, rippled, and holding a promise of color yet to come. Every so often, a\\nfaint streak of orange teased the horizon, as though the sun were testing the patience of the world\\nbefore committing to the day.\\nBeyond the docks lay the market district. Empty stalls stood with their canvas awnings rolled tight, but\\nthe air already carried hints of what was to come: citrus from crates of early-arriving oranges, the faint\\nmusk of burlap sacks filled with roasted coffee beans, the tang of sea salt from the fishmonger’s early\\ncatch. The cyclist slowed here, coasting between the rows, letting the scents and the slow creak of the\\ntide weave into a tapestry of beginnings.\\nIt was in the market’s farthest corner that they found the old clock tower. The building’s bricks had\\nweathered a century of storms, its iron hands frozen at 4:12 ever since the great power outage years\\nago. No one had bothered to fix it — time in this part of the city seemed to run on its own rules anyway.\\nBeneath the tower’s shadow, puddles reflected not the sky but the faint glow of lanterns. Someone had\\nleft them lit overnight, their flames swaying gently in the damp air.\\nThe cyclist stopped here. Not because they needed rest, but because some part of them understood\\nthat this was the moment — the stillness before the turning of the page. The scent of bread still lingered\\nin the air, and the gulls were beginning to gather somewhere unseen. A distant whistle — maybe a\\ntrain, maybe the wind — carried over the rooftops.\\nAnd then, without ceremony, the first full ribbon of sunlight broke the horizon. It slid over the water,\\npainted the bricks, caught in the glass windows of the closed shops. The cyclist closed their eyes for a\\nheartbeat, and when they opened them again, the city was no longer asleep.')]"
      ]
     },
     "execution_count": 12,
     "metadata": {},
     "output_type": "execute_result"
    }
   ],
   "source": [
    "## Reading a PDF File\n",
    "from langchain_community.document_loaders import PyPDFLoader\n",
    "\n",
    "loader = PyPDFLoader(\"../Data/random/before_the_sun.pdf\")\n",
    "\n",
    "pdf_doc = loader.load()\n",
    "pdf_doc"
   ]
  },
  {
   "cell_type": "code",
   "execution_count": 14,
   "id": "004a9b4e",
   "metadata": {},
   "outputs": [
    {
     "data": {
      "text/plain": [
       "[Document(metadata={'producer': 'ReportLab PDF Library - www.reportlab.com', 'creator': '(unspecified)', 'creationdate': '2025-08-10T08:41:29+00:00', 'author': '(anonymous)', 'keywords': '', 'moddate': '2025-08-10T08:41:29+00:00', 'subject': '(unspecified)', 'title': '(anonymous)', 'trapped': '/False', 'source': '../Data/random/before_the_sun_expanded.pdf', 'total_pages': 2, 'page': 0, 'page_label': '1'}, page_content='Before the Sun\\nThe rain had stopped hours ago, but the streets still glistened like molten silver. Water pooled in the\\nseams of cobblestones, trembling whenever a stray breeze swept through the alleyways. Somewhere\\noverhead, a single streetlamp flickered — not quite out of life, but never fully committed to staying lit. It\\nwas the kind of hour the city forgot it had, a narrow stretch of time between night’s exhaustion and\\ndawn’s impatient light.\\nA lone cyclist drifted through the quiet. Their coat was too thin for the damp air, but the rhythm of their\\npedaling kept the cold at bay. The hum of the tires was steady, a soft metronome against the hollow\\nspaces between the brick walls. Shopfronts passed in a blur — shutters down, windows black,\\nmannequins in winter scarves staring blankly into nothing.\\nFrom somewhere far ahead came the scent of baking bread. It curled through the air like smoke from\\nan invisible fire, warm and insistent, drawing the cyclist onward with a pull stronger than hunger. The\\nsource was a bakery on the corner of Bridge and Lanesworth — a place the cyclist had never actually\\nvisited but had passed countless times during busier hours, when the glass counter was crowded with\\nloaves, pastries, and the soft murmurs of customers. Now, the bakery stood in quiet defiance of the\\nsleeping city, its oven light glowing faintly through the front window like a beacon.\\nThe cyclist’s breath fogged in the air, tiny clouds swallowed by the mist that clung to the riverbank. This\\nroute had become a ritual, a small rebellion against the inertia of the everyday. Each morning, before\\nthe world fully stirred, they escaped into these half-lit streets. The city, despite its size, could still feel\\nintimate in these moments. Silent, waiting, pregnant with possibility.\\nA delivery truck was parked at the curb. Its engine was off, but the warmth still radiated from its hood.\\nThe driver, a man in a navy cap, leaned against the side door sipping from a paper cup. He gave the\\ncyclist a nod, the kind of shared acknowledgment that belongs to those awake in forbidden hours.\\nNeither spoke; neither needed to. The night still had a hold on their words.\\nSomewhere, a gull cried — sharp, distant, and strangely out of place. It was too early for the birds, but\\nperhaps the sea didn’t care for clocks any more than the wind did. The cyclist turned a corner and\\npassed the waterfront, where the tide lapped gently against weathered wood pilings. The water’s\\nsurface mirrored the sky: black, rippled, and holding a promise of color yet to come. Every so often, a\\nfaint streak of orange teased the horizon, as though the sun were testing the patience of the world\\nbefore committing to the day.\\nThe air smelled of salt and damp wood, mingling with the faint aroma of engine oil and old ropes.\\nFishing boats lay moored, their nets bundled and waiting for the day’s work to begin. A lone fisherman\\nuntangled lines, his hands moving with practiced ease despite the chill. He glanced up briefly at the\\ncyclist, offering a tired smile that spoke of years spent reading the sea’s moods.\\nBeyond the docks lay the market district. Empty stalls stood with their canvas awnings rolled tight, but\\nthe air already carried hints of what was to come: citrus from crates of early-arriving oranges, the faint\\nmusk of burlap sacks filled with roasted coffee beans, the tang of sea salt from the fishmonger’s early\\ncatch. The cyclist slowed here, coasting between the rows, letting the scents and the slow creak of the\\ntide weave into a tapestry of beginnings.\\nA street artist had set up in the corner, her easel silhouetted against the pale sky. She worked quietly,\\nbrushstrokes capturing the tentative light with a fluid grace. The cyclist paused, watching as color bled\\nacross canvas, the city transformed under her hands. Her face was tired but serene, a kind of devotion\\nthat needed no audience to be meaningful.'),\n",
       " Document(metadata={'producer': 'ReportLab PDF Library - www.reportlab.com', 'creator': '(unspecified)', 'creationdate': '2025-08-10T08:41:29+00:00', 'author': '(anonymous)', 'keywords': '', 'moddate': '2025-08-10T08:41:29+00:00', 'subject': '(unspecified)', 'title': '(anonymous)', 'trapped': '/False', 'source': '../Data/random/before_the_sun_expanded.pdf', 'total_pages': 2, 'page': 1, 'page_label': '2'}, page_content='It was in the market’s farthest corner that they found the old clock tower. The building’s bricks had\\nweathered a century of storms, its iron hands frozen at 4:12 ever since the great power outage years\\nago. No one had bothered to fix it — time in this part of the city seemed to run on its own rules anyway.\\nBeneath the tower’s shadow, puddles reflected not the sky but the faint glow of lanterns. Someone had\\nleft them lit overnight, their flames swaying gently in the damp air.\\nThe cyclist stopped here. Not because they needed rest, but because some part of them understood\\nthat this was the moment — the stillness before the turning of the page. The scent of bread still lingered\\nin the air, and the gulls were beginning to gather somewhere unseen. A distant whistle — maybe a\\ntrain, maybe the wind — carried over the rooftops.\\nTheir mind drifted as the city began to rouse. They thought of the past, the years that had blurred into\\none another. The choices made in the glare of day, the regrets hidden in night’s quiet corners. Time,\\nthey realized, was less a river and more a spiral — sometimes looping back, sometimes rushing\\nforward, but always moving, unstoppable.\\nMemories came unbidden — a childhood spent on these very streets, the laughter of friends long gone,\\nthe smell of rain on pavement after summer storms. The cyclist wondered how much of the city was\\ninside them, and how much of themselves was scattered through the city’s bones.\\nThe first full ribbon of sunlight broke the horizon without ceremony. It slid over the water, painted the\\nbricks, caught in the glass windows of the closed shops. The cyclist closed their eyes for a heartbeat,\\nand when they opened them again, the city was no longer asleep.\\nThe bakery’s doors opened with a soft creak, releasing warmth and light into the morning. A bell tinkled\\nas the first customer stepped inside, their breath a visible puff in the cool air. The fisherman readied his\\nboat for the day’s catch, the artist packed her brushes away, and the city exhaled, stretching its limbs\\nand preparing for another day.\\nThe cyclist turned toward home, heart lighter with the promise of new beginnings. The rain had\\nstopped, the night had passed, and somewhere beyond the waking city, life awaited.')]"
      ]
     },
     "execution_count": 14,
     "metadata": {},
     "output_type": "execute_result"
    }
   ],
   "source": [
    "## Reading a PDF File\n",
    "from langchain_community.document_loaders import PyPDFLoader\n",
    "\n",
    "loader = PyPDFLoader(\"../Data/random/before_the_sun_expanded.pdf\")\n",
    "\n",
    "pdf_doc = loader.load()\n",
    "pdf_doc"
   ]
  },
  {
   "cell_type": "code",
   "execution_count": null,
   "id": "a89b068f",
   "metadata": {},
   "outputs": [
    {
     "name": "stderr",
     "output_type": "stream",
     "text": [
      "USER_AGENT environment variable not set, consider setting it to identify your requests.\n"
     ]
    },
    {
     "data": {
      "text/plain": [
       "[Document(metadata={'source': 'https://www.linkedin.com/in/ta-seen-junaid-66969bb3/', 'language': 'No language found.'}, page_content='\\n\\n\\n')]"
      ]
     },
     "execution_count": 15,
     "metadata": {},
     "output_type": "execute_result"
    }
   ],
   "source": [
    "from langchain_community.document_loaders import WebBaseLoader\n",
    "\n",
    "loader = WebBaseLoader(\"https://scholar.google.com/citations?user=WWrT99UAAAAJ&hl=en\")\n",
    "web_doc = loader.load()\n",
    "web_doc"
   ]
  },
  {
   "cell_type": "code",
   "execution_count": null,
   "id": "32a1ee51",
   "metadata": {},
   "outputs": [],
   "source": []
  }
 ],
 "metadata": {
  "kernelspec": {
   "display_name": "langchaingraph",
   "language": "python",
   "name": "python3"
  },
  "language_info": {
   "codemirror_mode": {
    "name": "ipython",
    "version": 3
   },
   "file_extension": ".py",
   "mimetype": "text/x-python",
   "name": "python",
   "nbconvert_exporter": "python",
   "pygments_lexer": "ipython3",
   "version": "3.12.0"
  }
 },
 "nbformat": 4,
 "nbformat_minor": 5
}
