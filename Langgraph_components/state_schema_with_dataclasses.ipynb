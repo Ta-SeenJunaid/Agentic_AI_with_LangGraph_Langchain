{
 "cells": [
  {
   "cell_type": "code",
   "execution_count": 71,
   "id": "366c1db3",
   "metadata": {},
   "outputs": [],
   "source": [
    "from typing_extensions import TypedDict\n",
    "from typing import Literal\n",
    "\n",
    "class TypeDictState(TypedDict):\n",
    "    name: str\n",
    "    subject: Literal['ai', 'cs']"
   ]
  },
  {
   "cell_type": "code",
   "execution_count": 72,
   "id": "6f106f11",
   "metadata": {},
   "outputs": [],
   "source": [
    "def study(state: TypeDictState) -> str:\n",
    "    print(\"!!!!!!! Study node is called !!!!!!!\")\n",
    "    return {\"name\": f\"{state['name']} wants to study \"}\n",
    "\n",
    "def ai(state: TypeDictState) -> str:\n",
    "    print(\"!!!!!!! AI node is called !!!!!!!\")\n",
    "    return {\"name\": f\"{state['name']}  ai\", \"subject\": \"ai\"}\n",
    "\n",
    "def cs(state: TypeDictState) -> str:\n",
    "    print(\"!!!!!!! CS node is called !!!!!!!\")\n",
    "    return {\"name\": f\"{state['name']}  cs\", \"subject\": \"cs\"}    "
   ]
  },
  {
   "cell_type": "code",
   "execution_count": 73,
   "id": "a35d04ec",
   "metadata": {},
   "outputs": [],
   "source": [
    "import random\n",
    "def choose_subject(state:TypeDictState) -> Literal['ai', 'cs']:\n",
    "    if random.random() < 0.5:\n",
    "        return \"ai\"\n",
    "    else:\n",
    "        return \"cs\""
   ]
  },
  {
   "cell_type": "code",
   "execution_count": 74,
   "id": "b496aee8",
   "metadata": {},
   "outputs": [
    {
     "data": {
      "image/png": "[encoded data removed]",
      "text/plain": [
       "<IPython.core.display.Image object>"
      ]
     },
     "metadata": {},
     "output_type": "display_data"
    }
   ],
   "source": [
    "from IPython.display import Image, display\n",
    "from langgraph.graph import StateGraph, START, END\n",
    "\n",
    "builder = StateGraph(TypeDictState)\n",
    "builder.add_node(\"study\", study)\n",
    "builder.add_node(\"ai\", ai)\n",
    "builder.add_node(\"cs\", cs)\n",
    "\n",
    "builder.add_edge(START, \"study\")\n",
    "builder.add_conditional_edges( \"study\", choose_subject)\n",
    "builder.add_edge(\"ai\", END)\n",
    "builder.add_edge(\"cs\", END)\n",
    "\n",
    "graph = builder.compile()\n",
    "\n",
    "display(Image(graph.get_graph().draw_mermaid_png()))"
   ]
  },
  {
   "cell_type": "code",
   "execution_count": 75,
   "id": "c5b317a6",
   "metadata": {},
   "outputs": [
    {
     "name": "stdout",
     "output_type": "stream",
     "text": [
      "!!!!!!! Study node is called !!!!!!!\n",
      "!!!!!!! CS node is called !!!!!!!\n"
     ]
    },
    {
     "data": {
      "text/plain": [
       "{'name': 'TJ wants to study   cs', 'subject': 'cs'}"
      ]
     },
     "execution_count": 75,
     "metadata": {},
     "output_type": "execute_result"
    }
   ],
   "source": [
    "graph.invoke({\"name\": \"TJ\"})"
   ]
  },
  {
   "cell_type": "code",
   "execution_count": 83,
   "id": "64d9d5e2",
   "metadata": {},
   "outputs": [
    {
     "name": "stdout",
     "output_type": "stream",
     "text": [
      "!!!!!!! Study node is called !!!!!!!\n",
      "!!!!!!! AI node is called !!!!!!!\n"
     ]
    },
    {
     "data": {
      "text/plain": [
       "{'name': 'TJ wants to study   ai', 'subject': 'ai'}"
      ]
     },
     "execution_count": 83,
     "metadata": {},
     "output_type": "execute_result"
    }
   ],
   "source": [
    "graph.invoke({\"name\": \"TJ\"})"
   ]
  },
  {
   "cell_type": "markdown",
   "id": "3e8147ff",
   "metadata": {},
   "source": [
    "## DataClasses"
   ]
  },
  {
   "cell_type": "code",
   "execution_count": null,
   "id": "66c8d9a1",
   "metadata": {},
   "outputs": [],
   "source": [
    "from dataclasses import dataclass\n",
    "from typing import Literal\n",
    "\n",
    "\n",
    "@dataclass\n",
    "class DataClassState:\n",
    "    name:str\n",
    "    subject: Literal['ai', 'cs']"
   ]
  },
  {
   "cell_type": "code",
   "execution_count": 4,
   "id": "4c9631eb",
   "metadata": {},
   "outputs": [],
   "source": [
    "def study(state: DataClassState) -> str:\n",
    "    print(\"!!!!!!! Study node is called !!!!!!!\")\n",
    "    return {\"name\": f\"{state.name} wants to study \"}\n",
    "\n",
    "def ai(state: DataClassState) -> str:\n",
    "    print(\"!!!!!!! AI node is called !!!!!!!\")\n",
    "    return {\"name\": f\"{state.name}  ai\", \"subject\": \"ai\"}\n",
    "\n",
    "def cs(state: DataClassState) -> str:\n",
    "    print(\"!!!!!!! CS node is called !!!!!!!\")\n",
    "    return {\"name\": f\"{state.name}  cs\", \"subject\": \"cs\"}  "
   ]
  },
  {
   "cell_type": "code",
   "execution_count": 5,
   "id": "e268f3dd",
   "metadata": {},
   "outputs": [],
   "source": [
    "import random\n",
    "def choose_subject(state:DataClassState) -> Literal['ai', 'cs']:\n",
    "    if random.random() < 0.5:\n",
    "        return \"ai\"\n",
    "    else:\n",
    "        return \"cs\""
   ]
  },
  {
   "cell_type": "code",
   "execution_count": 7,
   "id": "7c6c2cff",
   "metadata": {},
   "outputs": [
    {
     "data": {
      "image/png": "[encoded data removed]",
      "text/plain": [
       "<IPython.core.display.Image object>"
      ]
     },
     "metadata": {},
     "output_type": "display_data"
    }
   ],
   "source": [
    "from IPython.display import Image, display\n",
    "from langgraph.graph import StateGraph, START, END\n",
    "\n",
    "builder = StateGraph(DataClassState)\n",
    "builder.add_node(\"study\", study)\n",
    "builder.add_node(\"ai\", ai)\n",
    "builder.add_node(\"cs\", cs)\n",
    "\n",
    "builder.add_edge(START, \"study\")\n",
    "builder.add_conditional_edges( \"study\", choose_subject)\n",
    "builder.add_edge(\"ai\", END)\n",
    "builder.add_edge(\"cs\", END)\n",
    "\n",
    "graph = builder.compile()\n",
    "\n",
    "display(Image(graph.get_graph().draw_mermaid_png()))"
   ]
  },
  {
   "cell_type": "code",
   "execution_count": 10,
   "id": "1872cb17",
   "metadata": {},
   "outputs": [
    {
     "name": "stdout",
     "output_type": "stream",
     "text": [
      "!!!!!!! Study node is called !!!!!!!\n",
      "!!!!!!! CS node is called !!!!!!!\n"
     ]
    },
    {
     "data": {
      "text/plain": [
       "{'name': 'TJ wants to study   cs', 'subject': 'cs'}"
      ]
     },
     "execution_count": 10,
     "metadata": {},
     "output_type": "execute_result"
    }
   ],
   "source": [
    "graph.invoke(DataClassState(name=\"TJ\", subject=\"ai\"))"
   ]
  },
  {
   "cell_type": "markdown",
   "id": "15442dec",
   "metadata": {},
   "source": [
    "The output is decided by the randomness of the choose_subject function"
   ]
  },
  {
   "cell_type": "code",
   "execution_count": 11,
   "id": "19f7d413",
   "metadata": {},
   "outputs": [
    {
     "name": "stdout",
     "output_type": "stream",
     "text": [
      "!!!!!!! Study node is called !!!!!!!\n",
      "!!!!!!! AI node is called !!!!!!!\n"
     ]
    },
    {
     "data": {
      "text/plain": [
       "{'name': 'TJ wants to study   ai', 'subject': 'ai'}"
      ]
     },
     "execution_count": 11,
     "metadata": {},
     "output_type": "execute_result"
    }
   ],
   "source": [
    "graph.invoke(DataClassState(name=\"TJ\", subject=\"cs\"))"
   ]
  },
  {
   "cell_type": "code",
   "execution_count": null,
   "id": "a444f885",
   "metadata": {},
   "outputs": [],
   "source": []
  }
 ],
 "metadata": {
  "kernelspec": {
   "display_name": "langgraph",
   "language": "python",
   "name": "python3"
  },
  "language_info": {
   "codemirror_mode": {
    "name": "ipython",
    "version": 3
   },
   "file_extension": ".py",
   "mimetype": "text/x-python",
   "name": "python",
   "nbconvert_exporter": "python",
   "pygments_lexer": "ipython3",
   "version": "3.10.18"
  }
 },
 "nbformat": 4,
 "nbformat_minor": 5
}
